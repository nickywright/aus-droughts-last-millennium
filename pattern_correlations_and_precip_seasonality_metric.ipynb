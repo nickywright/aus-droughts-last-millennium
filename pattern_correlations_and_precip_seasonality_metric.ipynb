{
 "cells": [
  {
   "cell_type": "markdown",
   "id": "b306fd0e",
   "metadata": {},
   "source": [
    "## This script has snippets of code showing how to\n",
    "\n",
    "* calculate pattern correlations between two 2D grids\n",
    "* calculate a metric of precipitation seasonality"
   ]
  },
  {
   "cell_type": "code",
   "execution_count": 2,
   "id": "32f43a78",
   "metadata": {},
   "outputs": [],
   "source": [
    "import numpy as np\n",
    "import pandas as pd\n",
    "import xarray as xr"
   ]
  },
  {
   "cell_type": "markdown",
   "id": "7cdd50a5",
   "metadata": {},
   "source": [
    "### Pattern correlations"
   ]
  },
  {
   "cell_type": "markdown",
   "id": "39aa881c",
   "metadata": {},
   "source": [
    "Takes two 2D arrays, flattens them, puts them in a dataframe, then calculates the correlation"
   ]
  },
  {
   "cell_type": "code",
   "execution_count": null,
   "id": "27c63e00",
   "metadata": {},
   "outputs": [],
   "source": [
    "# e.g. a drought metric in AWAP (1900-2000)\n",
    "arr1 = np.zeros(shape=(60,80))\n",
    "\n",
    "# e.g. the same drought metric from a PMIP3 model (1900-2000)\n",
    "arr2 = np.zeros(shape=(60,80))"
   ]
  },
  {
   "cell_type": "code",
   "execution_count": null,
   "id": "a3a83759",
   "metadata": {},
   "outputs": [],
   "source": [
    "d = {\"obs\": np.fromiter(arr1.flat, float),\n",
    "     \"mod\": np.fromiter(arr2.flat, float)}\n",
    "df = pd.DataFrame(d)\n",
    "        \n",
    "pattcor_val = df.corr().iloc[0]['mod']"
   ]
  },
  {
   "cell_type": "markdown",
   "id": "73864ddd",
   "metadata": {},
   "source": [
    "### Seasonality metric"
   ]
  },
  {
   "cell_type": "markdown",
   "id": "9f0293f8",
   "metadata": {},
   "source": [
    "Calculated as follows:\n",
    "\n",
    "1. Calculate MAP\n",
    "2. Calculate the mean precipitation amount for each month\n",
    "3. Combine them into the metric\n",
    "\n",
    "Input is the monthly AWAP grid (clipped to the relevant time period i.e. 1900-2000)"
   ]
  },
  {
   "cell_type": "code",
   "execution_count": null,
   "id": "ec287137",
   "metadata": {},
   "outputs": [],
   "source": [
    "# Calculate MAP from monthly AWAP data (here called 'agcd_mth_land')\n",
    "\n",
    "precip_ann = agcd_mth_land.groupby(\"time.year\").sum(dim = \"time\")\n",
    "precip_ann_mean = precip_ann.mean(dim = \"year\")"
   ]
  },
  {
   "cell_type": "code",
   "execution_count": null,
   "id": "e88914c1",
   "metadata": {},
   "outputs": [],
   "source": [
    "# Calculate mean precipitation for each month. Sorry this is really hideous; it was one of my first python efforts!\n",
    "#I'm sure there's a better way using dictionaries\n",
    "\n",
    "def is_jan(month):\n",
    "    return (month == 1)\n",
    "precip_jan = agcd_mth_land.sel(time=is_jan(agcd_mth_land['time.month'])).mean(dim = \"time\")\n",
    "\n",
    "def is_feb(month):\n",
    "    return (month == 2)\n",
    "precip_feb = agcd_mth_land.sel(time=is_feb(agcd_mth_land['time.month'])).mean(dim = \"time\")\n",
    "\n",
    "def is_mar(month):\n",
    "    return (month == 3)\n",
    "precip_mar = agcd_mth_land.sel(time=is_mar(agcd_mth_land['time.month'])).mean(dim = \"time\")\n",
    "\n",
    "def is_apr(month):\n",
    "    return (month == 4)\n",
    "precip_apr = agcd_mth_land.sel(time=is_apr(agcd_mth_land['time.month'])).mean(dim = \"time\")\n",
    "\n",
    "def is_may(month):\n",
    "    return (month == 5)\n",
    "precip_may = agcd_mth_land.sel(time=is_may(agcd_mth_land['time.month'])).mean(dim = \"time\")\n",
    "\n",
    "def is_jun(month):\n",
    "    return (month == 6)\n",
    "precip_jun = agcd_mth_land.sel(time=is_jun(agcd_mth_land['time.month'])).mean(dim = \"time\")\n",
    "\n",
    "def is_jul(month):\n",
    "    return (month == 7)\n",
    "precip_jul = agcd_mth_land.sel(time=is_jul(agcd_mth_land['time.month'])).mean(dim = \"time\")\n",
    "\n",
    "def is_aug(month):\n",
    "    return (month == 8)\n",
    "precip_aug = agcd_mth_land.sel(time=is_aug(agcd_mth_land['time.month'])).mean(dim = \"time\")\n",
    "\n",
    "def is_sep(month):\n",
    "    return (month == 9)\n",
    "precip_sep = agcd_mth_land.sel(time=is_sep(agcd_mth_land['time.month'])).mean(dim = \"time\")\n",
    "\n",
    "def is_oct(month):\n",
    "    return (month == 10)\n",
    "precip_oct = agcd_mth_land.sel(time=is_oct(agcd_mth_land['time.month'])).mean(dim = \"time\")\n",
    "\n",
    "def is_nov(month):\n",
    "    return (month == 11)\n",
    "precip_nov = agcd_mth_land.sel(time=is_nov(agcd_mth_land['time.month'])).mean(dim = \"time\")\n",
    "\n",
    "def is_dec(month):\n",
    "    return (month == 12)\n",
    "precip_dec = agcd_mth_land.sel(time=is_dec(agcd_mth_land['time.month'])).mean(dim = \"time\")"
   ]
  },
  {
   "cell_type": "code",
   "execution_count": null,
   "id": "addb5107",
   "metadata": {},
   "outputs": [],
   "source": [
    "# Calculate the seasonality index\n",
    "map_mean_monthly = precip_ann_mean/12\n",
    "\n",
    "precip_si = (1/precip_ann_mean) * sum([\n",
    "    (abs(precip_jan-map_mean_monthly)),\n",
    "    (abs(precip_feb-map_mean_monthly)),\n",
    "    (abs(precip_mar-map_mean_monthly)),\n",
    "    (abs(precip_apr-map_mean_monthly)),\n",
    "    (abs(precip_may-map_mean_monthly)),\n",
    "    (abs(precip_jun-map_mean_monthly)),\n",
    "    (abs(precip_jul-map_mean_monthly)),\n",
    "    (abs(precip_aug-map_mean_monthly)),\n",
    "    (abs(precip_sep-map_mean_monthly)),\n",
    "    (abs(precip_oct-map_mean_monthly)),\n",
    "    (abs(precip_nov-map_mean_monthly)),\n",
    "    (abs(precip_dec-map_mean_monthly))\n",
    "])"
   ]
  }
 ],
 "metadata": {
  "kernelspec": {
   "display_name": "Python 3 (ipykernel)",
   "language": "python",
   "name": "python3"
  },
  "language_info": {
   "codemirror_mode": {
    "name": "ipython",
    "version": 3
   },
   "file_extension": ".py",
   "mimetype": "text/x-python",
   "name": "python",
   "nbconvert_exporter": "python",
   "pygments_lexer": "ipython3",
   "version": "3.10.4"
  }
 },
 "nbformat": 4,
 "nbformat_minor": 5
}
